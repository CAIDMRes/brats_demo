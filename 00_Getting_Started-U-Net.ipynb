{
 "cells": [
  {
   "cell_type": "markdown",
   "metadata": {},
   "source": [
    "# Getting Started\n",
    "\n",
    "In this notebook we introduce basic concepts and functionality regarding use of the custom `cnn` library. Generally, this tutorial will cover just enough to begin using the `cnn` tools; for in-depth coverage of functionality please refer to the individual notebooks dedicated to each component of the `cnn` pipeline:\n",
    "\n",
    "1. Import Data\n",
    "2. Database Access and Manipulation\n",
    "3. Annotation Platform\n",
    "4. Algorithm Training\n",
    "5. Inference and Validation\n",
    "\n",
    "**Note:** The links embedded in this document are designed to jump directly the subsection within the above notebooks for further detail, however due to some quirks in Jupyter might require two clicks (one to open the notebook de novo, a second to jump to the notebook subsection) for full redirection.\n",
    "\n",
    "## Overview\n",
    "\n",
    "The key design paradigm of the `cnn` Python library is an interconnected network of classes that have been prebuilt with a number of key functionality needed to train deep learning algorithms, particularly those dealing with medical imaging. To train a new algorithm, simply overload (e.g. \"adapt\") key methods and/or variables of several key classes. The vast majority of common architectures can be quickly adapated for a particular problem in less than 100 lines of code, however can easily be extended to large, complex architectures as needed.\n",
    "\n",
    "At minimum, the two key classes that need to be customized are the `Client` class (used for defining how to load data) and the `Model` class (used for defining the underlying CNN architecture model / graph). These (and many other default classes) are then combined into a final `Network` object to facilitate training as well as algorithn inference and validation:\n",
    "```\n",
    "net = cnn.Network()\n",
    "net.Client = Client\n",
    "net.Model = Model\n",
    "\n",
    "net.initialize(\n",
    "    app_context=app_context, \n",
    "    fold=0)\n",
    "    \n",
    "net.train()\n",
    "```\n",
    "\n",
    "Let's get started!\n",
    "\n",
    "## Choosing GPU in Jupyter Notebooks\n",
    "\n",
    "If you are using a Jupyter notebook to interface with code development on a machine with multiple GPUs, you must first start by selecting the GPU that you wish to use for network training. Keep in mind that by default Tensorflow will *allocate* every free GPU available, despite the fact that it cannot use more than a single GPU unless your code has been carefully parallelized. To select just a single GPU, use the Terminal command `nvidia-smi` to list the current status of the cards."
   ]
  },
  {
   "cell_type": "code",
   "execution_count": 1,
   "metadata": {},
   "outputs": [
    {
     "name": "stdout",
     "output_type": "stream",
     "text": [
      "Fri Sep  7 18:45:37 2018       \n",
      "+-----------------------------------------------------------------------------+\n",
      "| NVIDIA-SMI 390.59                 Driver Version: 390.59                    |\n",
      "|-------------------------------+----------------------+----------------------+\n",
      "| GPU  Name        Persistence-M| Bus-Id        Disp.A | Volatile Uncorr. ECC |\n",
      "| Fan  Temp  Perf  Pwr:Usage/Cap|         Memory-Usage | GPU-Util  Compute M. |\n",
      "|===============================+======================+======================|\n",
      "|   0  GeForce GTX 108...  Off  | 00000000:3B:00.0  On |                  N/A |\n",
      "| 23%   19C    P8    16W / 250W |    357MiB / 11178MiB |      0%      Default |\n",
      "+-------------------------------+----------------------+----------------------+\n",
      "|   1  GeForce GTX 108...  Off  | 00000000:5E:00.0 Off |                  N/A |\n",
      "| 23%   21C    P8    15W / 250W |  10962MiB / 11178MiB |      0%      Default |\n",
      "+-------------------------------+----------------------+----------------------+\n",
      "|   2  GeForce GTX 108...  Off  | 00000000:AF:00.0 Off |                  N/A |\n",
      "| 23%   25C    P8    15W / 250W |  10789MiB / 11178MiB |      0%      Default |\n",
      "+-------------------------------+----------------------+----------------------+\n",
      "|   3  GeForce GTX 108...  Off  | 00000000:D8:00.0 Off |                  N/A |\n",
      "| 23%   22C    P8    15W / 250W |  10789MiB / 11178MiB |      0%      Default |\n",
      "+-------------------------------+----------------------+----------------------+\n",
      "                                                                               \n",
      "+-----------------------------------------------------------------------------+\n",
      "| Processes:                                                       GPU Memory |\n",
      "|  GPU       PID   Type   Process name                             Usage      |\n",
      "|=============================================================================|\n",
      "+-----------------------------------------------------------------------------+\n"
     ]
    }
   ],
   "source": [
    "!nvidia-smi"
   ]
  },
  {
   "cell_type": "markdown",
   "metadata": {},
   "source": [
    "To see which GPUs are free, look for large allocations of memory in the second column (`___MiB / 11178MiB`). Any GPU with a large fraction memory already allocated is likely in use. Once we identify an open GPU, use the following lines of code to select the device:"
   ]
  },
  {
   "cell_type": "code",
   "execution_count": 2,
   "metadata": {},
   "outputs": [
    {
     "name": "stderr",
     "output_type": "stream",
     "text": [
      "/miniconda/envs/cnn/lib/python3.5/importlib/_bootstrap.py:222: RuntimeWarning: numpy.dtype size changed, may indicate binary incompatibility. Expected 96, got 88\n",
      "  return f(*args, **kwds)\n",
      "/miniconda/envs/cnn/lib/python3.5/importlib/_bootstrap.py:222: RuntimeWarning: numpy.dtype size changed, may indicate binary incompatibility. Expected 96, got 88\n",
      "  return f(*args, **kwds)\n",
      "/miniconda/envs/cnn/lib/python3.5/importlib/_bootstrap.py:222: RuntimeWarning: numpy.dtype size changed, may indicate binary incompatibility. Expected 96, got 88\n",
      "  return f(*args, **kwds)\n"
     ]
    },
    {
     "name": "stdout",
     "output_type": "stream",
     "text": [
      "[name: \"/device:CPU:0\"\n",
      "device_type: \"CPU\"\n",
      "memory_limit: 268435456\n",
      "locality {\n",
      "}\n",
      "incarnation: 2016332587123280581\n",
      ", name: \"/device:GPU:0\"\n",
      "device_type: \"GPU\"\n",
      "memory_limit: 10560965837\n",
      "locality {\n",
      "  bus_id: 1\n",
      "  links {\n",
      "  }\n",
      "}\n",
      "incarnation: 6316781733683673909\n",
      "physical_device_desc: \"device: 0, name: GeForce GTX 1080 Ti, pci bus id: 0000:3b:00.0, compute capability: 6.1\"\n",
      "]\n"
     ]
    }
   ],
   "source": [
    "import os\n",
    "os.environ['CUDA_DEVICE_ORDER']= 'PCI_BUS_ID'\n",
    "os.environ['CUDA_VISIBLE_DEVICES'] = '0'            # Modify as needed\n",
    "from tensorflow.python.client import device_lib\n",
    "print(device_lib.list_local_devices())"
   ]
  },
  {
   "cell_type": "markdown",
   "metadata": {},
   "source": [
    "## Import\n",
    "\n",
    "These lines of code are used to import the necessary modules including the custom `cnn` library. Note here that the custom `montage` module is a pylab wrapper for quickly visualizing 3D grayscale images. Keep in mind that if your environment is not already preconfigured, you will need to set `$PYTHONPATH` with the necessary pointers using the `setenv.sh` script provided at the root of the repository."
   ]
  },
  {
   "cell_type": "code",
   "execution_count": 3,
   "metadata": {},
   "outputs": [
    {
     "name": "stdout",
     "output_type": "stream",
     "text": [
      "Connect to viewer URL: http://160.87.25.45:7000/login.html?user=caidm "
     ]
    },
    {
     "data": {
      "text/html": [
       "<a href=\"http://160.87.25.45:7000/login.html?user=caidm\">link</a>"
      ],
      "text/plain": [
       "<IPython.core.display.HTML object>"
      ]
     },
     "metadata": {},
     "output_type": "display_data"
    }
   ],
   "source": [
    "import cnn\n",
    "import numpy as np\n",
    "from montage import montage\n",
    "from show import show"
   ]
  },
  {
   "cell_type": "markdown",
   "metadata": {},
   "source": [
    "# Client Class\n",
    "\n",
    "The `cnn.utils.Client` class is used to interact with underlying database images. Before instantiating this class, one needs to provide the generic `Client` class with a context (`app_context` dict) that defines the data (and/or label) sources. The key `app_context` dictionary entries to define include:\n",
    "\n",
    "* db: the name of MongoDB database containing data\n",
    "* ip_mongodb: the IP address of the MongoDB daemon (by default, set to `127.0.0.1`)\n",
    "* tags-series: list containing tags for series to load\n",
    "* tags-labels: list containing tags for labels to load (if empty, no label mask is loaded)\n",
    "\n",
    "Note that `tags-labels` refers to 2D or 3D volume mask data that need to be loaded from a separate file. Any single dimensional label data such as those for simple classification are stored directly in the MongoDB and are loaded automatically by the client (no special `tags-labels` need to be specified). For more information regarding `app_context` definition and maintenance see [01 - Import Data - Application Context](01_Import_Data.ipynb#Application-context)."
   ]
  },
  {
   "cell_type": "markdown",
   "metadata": {},
   "source": [
    "## Data\n",
    "\n",
    "In this example, we will be using the pre-imported BRaTS challenge database containing MRI exams from patients with brain tumors, loaded into the MongoDB under a database named `brats`. In this particular dataset, each patient was scanned with a total of four different modalities (series)---T2 (`brats-t2`), FLAIR (`brats-flair`), T1 precontrast (`brats-t1pre`) and T1 postcontrast (`brats-t1post`) exams. Note that each exam added in this list will simply be loaded and stacked along the channel (fourth) dimension, in the same order as this provided list. "
   ]
  },
  {
   "cell_type": "code",
   "execution_count": 8,
   "metadata": {},
   "outputs": [],
   "source": [
    "# Define application context to data and/or label sources\n",
    "app_context = {\n",
    "    'db': 'brats',\n",
    "    'tags-series': ['brats-t2', 'brats-flair'],\n",
    "    'tags-labels': ['tumor']\n",
    "}\n",
    "\n",
    "# Pass application context to Client() class to instantiate\n",
    "client = cnn.utils.Client(app_context)"
   ]
  },
  {
   "cell_type": "markdown",
   "metadata": {},
   "source": [
    "## Loading Data\n",
    "\n",
    "To use the newly instantiated `Client` class, the simplest approach is via the `client.load_next()` method. Without any parameters, this will choose a random study and load its entire contents. The return variable is a dictionary, `vol`, containing two key entries:\n",
    "\n",
    "* `vol['dat']`: 4D image volume (N x H x W x C)\n",
    "* `vol['lbl']`: 4D label volume (N x H x W x C)\n",
    "\n",
    "Here N = number of slices (N = 1 for 2D images) and C = number of different channels / modalities (C = 1 for single channel images e.g. plain film or CT). Note that if no `tags-labels` are provided then `vol['lbl']` will simply contain an empty list. For more information regarding various methods to load data using the `Client` class, please refer to [02 Database Access and Manipulation - Loading Data](02_Database_Access_and_Manipulation.ipynb#Loading-data)."
   ]
  },
  {
   "cell_type": "code",
   "execution_count": 25,
   "metadata": {},
   "outputs": [
    {
     "name": "stdout",
     "output_type": "stream",
     "text": [
      "(155, 240, 240, 2)\n",
      "(155, 240, 240, 1)\n"
     ]
    }
   ],
   "source": [
    "def test_client_load():\n",
    "    \n",
    "    vol = client.load_next()\n",
    "    \n",
    "    return vol\n",
    "    \n",
    "vol = test_client_load()\n",
    "print(vol['dat'].shape)\n",
    "print(vol['lbl'].shape)"
   ]
  },
  {
   "cell_type": "markdown",
   "metadata": {},
   "source": [
    "To view these 3D volumes, consider using the `montage()` function. To promote flexibility, `montage()` accepts a wide range of inputs from 2D to 4D matrices and simply makes a montage (tiled collage) of the volume along an ambiguous dimension (*non* height or width dimension shape > 1). For a 4D input of size N x H x W x C, the ambiguous dimensions are either the first (N) or last (C) dimension. If both N and C are greater than 1, N is by default the ambiguous dimension and C is automatically set to the first index; the resulting output display is a total of N tiles (slices) of the first volume channel. The chosen channel can of course alternatively be set by manually indexing into the array as needed. By contrast, if N is set to 1 and C is greater than 1, then all channels for a given slice will be displayed instead.\n",
    "\n",
    "Some common example commands:\n",
    "\n",
    "```\n",
    "dat = vol['dat']\n",
    "montage(dat)                   # Shows all slices of the first channel\n",
    "montage(dat[::10])             # Shows every 10th slice of the first channel\n",
    "montage(dat[..., 1])           # Shows all slices of the second channel\n",
    "montage(dat[80])               # Shows all channels of the 80th slice\n",
    "```\n",
    "\n",
    "Feel free to try out these various combinations below (on `vol['dat']` and/or `vol['lbl']`."
   ]
  },
  {
   "cell_type": "code",
   "execution_count": null,
   "metadata": {},
   "outputs": [],
   "source": []
  },
  {
   "cell_type": "markdown",
   "metadata": {},
   "source": [
    "## Infos dictionary\n",
    "\n",
    "As needed, the default behavior for loading images can be specified using the `infos` dictionary. The most common specifications will relate to image resizing and/or slicing, and these in turn will most commonly be defined using the `shape` and `tiles` entries. Addition information for full `infos` dictionary use can be found in [02 - Database Access and Manipulation - Infos Dictionary](02_Database_Access_and_Manipulation.ipynb#Infos-dictionary).\n",
    "\n",
    "### Volume resizing\n",
    "\n",
    "To resize the entire image volume along any dimension, simply set the `infos['shape']` list to the desired target size. Keep in mind the N x H x W convention such that by default any 2D image should be defined as `[1, H, W]` (two-entry lists will fail). All specifications in the `infos` dictionary are automatically propogated to any associated label masks."
   ]
  },
  {
   "cell_type": "code",
   "execution_count": 32,
   "metadata": {},
   "outputs": [
    {
     "name": "stdout",
     "output_type": "stream",
     "text": [
      "(64, 120, 120, 2)\n",
      "(64, 120, 120, 1)\n"
     ]
    }
   ],
   "source": [
    "def test_client_load():\n",
    "    \n",
    "    # Resize 155 x 240 x 240 to 64 x 120 x 120\n",
    "    infos = {\n",
    "        'shape': [64, 120, 120],\n",
    "        'tiles': [0, 0, 0]\n",
    "    }\n",
    "    \n",
    "    vol = client.load_next(infos=infos)\n",
    "    \n",
    "    return vol\n",
    "\n",
    "vol = test_client_load()\n",
    "print(vol['dat'].shape)\n",
    "print(vol['lbl'].shape)"
   ]
  },
  {
   "cell_type": "markdown",
   "metadata": {},
   "source": [
    "### Volume slicing\n",
    "\n",
    "To slice an image volume (load a portion of an image), simply set the desired shape and change the corresponding `tiles` to a non-zero value indicating the stride *distance* in millimeters (mm). For example a shape of `[5, 240, 240]` with a tiles of `[1, 0, 0]` indicates that random 5 contiguous slices with 1-mm spacing will be returned, whereas a tiles of `[3, 0, 0]` will increasing the spacing to 3-mm (every 3rd slice). If the original raw images imported into the database do not containg information about slice spacing (e.g. already anonymized and pre-coverted from original DICOM objects) then a default setting of 1-mm is asssumed. "
   ]
  },
  {
   "cell_type": "code",
   "execution_count": 47,
   "metadata": {},
   "outputs": [
    {
     "name": "stdout",
     "output_type": "stream",
     "text": [
      "(5, 240, 240, 2)\n",
      "(5, 240, 240, 1)\n",
      "Remote server (160.87.25.45:27787) recieved dat: size 288000\n",
      "Remote server (160.87.25.45:27787) recieved lbl: size 1\n",
      "Ready for viewing\n"
     ]
    }
   ],
   "source": [
    "def test_client_load():\n",
    "    \n",
    "    infos = {\n",
    "        'shape': [5, 240, 240],\n",
    "        'tiles': [1, 0, 0]\n",
    "    }\n",
    "\n",
    "    vol = client.load_next(infos=infos)\n",
    "    \n",
    "    return vol\n",
    "\n",
    "vol = test_client_load()\n",
    "print(vol['dat'].shape)\n",
    "print(vol['lbl'].shape)"
   ]
  },
  {
   "cell_type": "markdown",
   "metadata": {},
   "source": [
    "## BRATS Dataset\n",
    "\n",
    "Now that we understand how to load images, let us look at the BRATS dataset more closely. In addition to the four differnt modalities described above, a 3D mask label is provided for each patient containing one of four different labels at each voxel (3D pixel) in the exam:\n",
    "\n",
    "* 1 = non-enhancing tumor\n",
    "* 2 = edema\n",
    "* 3 = necrosis\n",
    "* 4 = enhancing tumor\n",
    "\n",
    "If any given slice contains a mask label value > 0 (1 to 4) then that slice contains some type of tumor component. If the mask label consists entirely of zeros, then it is background (no tumor present)."
   ]
  },
  {
   "cell_type": "markdown",
   "metadata": {},
   "source": [
    "## Overloading Client\n",
    "\n",
    "Now that we are familiar with use of the generic `Client` class (useful for exploring data, etc) let us now go over the key modifications needed to customize the class for a specific experiment. To do so, we will at minimum need to overload the `init_client()` and `get()` methods of the template `Client` class.\n",
    "\n",
    "An example overloaded class definition is provided below. Continue reading for more information about considerations for overloading the client object."
   ]
  },
  {
   "cell_type": "code",
   "execution_count": 4,
   "metadata": {},
   "outputs": [],
   "source": [
    "class Client(cnn.utils.Client):\n",
    "    \n",
    "    def init_client(self):\n",
    "        \"\"\"\n",
    "        Method to set default experiment specific variables\n",
    "        \n",
    "        \"\"\"\n",
    "        self.infos = {\n",
    "            'shape': [1, 240, 240],\n",
    "            'tiles': [1, 0, 0],\n",
    "            'valid_expansion': True\n",
    "        }\n",
    "        \n",
    "        self.inputs = {\n",
    "            'dtypes': {},\n",
    "            'shapes': {},\n",
    "            'classes': {}\n",
    "        }\n",
    "        \n",
    "        self.inputs['dtypes']['dat'] = 'float32'\n",
    "        self.inputs['shapes']['dat'] = [1, 240, 240, 4]\n",
    "        \n",
    "        self.inputs['dtypes']['dsc-tumor'] = 'int32'\n",
    "        self.inputs['shapes']['dsc-tumor'] = [1, 240, 240, 1]\n",
    "        self.inputs['classes']['dsc-tumor'] = 5\n",
    "        \n",
    "        self.dist = {\n",
    "            0: 0.20, \n",
    "            1: 0.20, \n",
    "            2: 0.20, \n",
    "            3: 0.20, \n",
    "            4: 0.20}\n",
    "        \n",
    "        self.mode = 'mixed'\n",
    "        self.iids = {}\n",
    "        self.x = {}\n",
    "        \n",
    "    def get(self, mode=None, random=True):\n",
    "        \"\"\"\n",
    "        Method to load a single train/valid study\n",
    "        \n",
    "        \"\"\"\n",
    "        # Load data\n",
    "        next_doc = self.next_doc(mode=mode, random=True)\n",
    "        vol = self.load(doc=next_doc['doc'], infos=next_doc['infos'])\n",
    "        \n",
    "        # Preprocessing\n",
    "        if vol['dat'].any():\n",
    "            vol['dat'] = (vol['dat'] - np.mean(vol['dat'])) / np.std(vol['dat'])\n",
    "        else:\n",
    "            vol['dat'][:] = -1\n",
    "\n",
    "        # Create nested vol dictionary\n",
    "        vol['lbl'] = {'dsc-tumor': vol['lbl'] + 1}\n",
    "        \n",
    "        return self.return_get(next_doc, vol)"
   ]
  },
  {
   "cell_type": "markdown",
   "metadata": {},
   "source": [
    "## Overloading the self.init_client() method\n",
    "\n",
    "The `init_client()` method is called upon initialization of a new `Client()` object to set default experiment-specific values for CNN training. The two main dictionaries to define in this method are `self.infos` and `self.inputs`.\n",
    "\n",
    "### Setting self.infos dictionary\n",
    "\n",
    "The `infos` dictionary defines how underlying data will be loaded from memory. The same conventions described above apply here; however rather than defining the dictionary manually (repeatedly) one dictionary is saved as a variable within the class and reused for all subsequent calls. For more information see [02 - Database Access and Manipulation - Infos Dictionary](02_Database_Access_and_Manipulation.ipynb#Infos-dictionary) for more information.\n",
    "\n",
    "### Setting self.inputs dictionary\n",
    "\n",
    "The `self.inputs` dictionary is used to define key information about inputs into the model, including both input image data and labels. For input images, the corresponding `dtype` and `shapes` (input shape) must be defined. By convention, dictionary key used to define input data is set to `'dat'`.\n",
    "```\n",
    "self.inputs['dtypes']['dat'] = 'float32'\n",
    "self.inputs['shapes']['dat'] = [1, 240, 240, 1]\n",
    "```\n",
    "For input labels, the corresponding `dtypes`, `shapes` and `classes` (total number of classes for classification tasks; set to 0 for regression tasks) must be defined. Note that all labels are assumed to be 4D masks with single value labels represented by a matrix of shape (1, 1, 1, 1). \n",
    "```\n",
    "self.inputs['dtypes']['sce-tumor'] = 'int32'\n",
    "self.inputs['shapes']['sce-tumor'] = [1, 1, 1, 1]\n",
    "self.inputs['classes']['sce-tumor'] = 2\n",
    "```\n",
    "The dictionary key used to define a label must be carefully defined; the library will in fact use the specificiation here to automatically identify logit scores and apply the appropriate loss function without any other user input. To accomplish this, the algorithm assumes that the keys follow a naming convention split into two parts separated by a hypthen (`xxx-xxxx`). The first three letters before the hypthen indicate the type of loss function to apply to this label. The available loss functions include:\n",
    "\n",
    "* `sce`: sigmoid cross-entropy\n",
    "* `dsc`: soft Dice score\n",
    "* `l1d`: L1 distance\n",
    "* `l2d`: L2 distance\n",
    "* `sl1:` smooth L1 loss (Huber)\n",
    "\n",
    "The second half of the key after the hypthen can be any descriptive label as long as the keys are consistent. Note that the keys chosen here must match the keys used in the `self.get()` method below, and potentially in the `cnn.Model()` class below if customizations are used."
   ]
  },
  {
   "cell_type": "markdown",
   "metadata": {},
   "source": [
    "## Overloading the self.get() method\n",
    "\n",
    "The `self.get()` method is called during each training iteration to get data prepared for feeding into a CNN. As documented in [02 - Database Access and Manipulation - Loading Data](02_Database_Access_and_Manipulation.ipynb#Loading-data), the easiest way to accomplish this is to simply use the `self.next_doc()` method to pick a random MongoDB document matching the prespecified criteria in app_context, and then feeding the document into `self.load()`. Given that the `self.load()` function will only load 2D or 3D mask volume files into the default `vol` dictionary, any 1D conventional classification label if present should be extracted from the corresponding MongoDB document (`next_doc['doc']`) manually. \n",
    "\n",
    "During the `self.get()` method, any number of preprocessing steps may also be included. Note that at this point the tensors remain as Numpy (not Tensorflow) arrays, making a number of preprocessing pipelines easy to implement.\n",
    "\n",
    "There are two data structures that must be returned at the end of this call and passed into the `self.return_get()` method. The first is the `next_doc` dictionary containing the MongoDB document as well as some related metadata. This is generated automatically as part of the call to `self.next_doc()`. The second is a nested dictionary, vol:\n",
    "\n",
    "```\n",
    "vol = {\n",
    "    'dat': (NumPy array)\n",
    "    'msk': msk,\n",
    "    'lbl': lbl\n",
    "}\n",
    "```\n",
    "Note that while the `dat` entry is assumed to contain one input volume, the `lbl` (and `msk`) entries can potentially contain more than one label (and mask). Because of this, while `dat` simply contains a single Numpy array, both `msk` and `lbl` contain dictionaries with a number of potential masks and labels specified by a corresponding key (that matches the same key defined above in `init_inputs()`.\n",
    "\n",
    "Here, `vol['msk']` references a dictionary containing special a mask(s) equal in shape to the label. At all locations where mask is 0, the loss will be masked and not contribute to backpropogation calculations. By default, the mask will be set to 1 (True) for all pixels (or voxels). \n",
    "```\n",
    "msk = {\n",
    "    'lbl-key00': ...,\n",
    "    'lbl-key01': ..., etc\n",
    "}\n",
    "```\n",
    "Here, `vol['lbl']` references a dictionary containing the label. Note that by convention, any label with a value of 0 is ignored (reserved for missing data); thus the first class in your label output should be labeled 1, the second class 2, etc.\n",
    "```\n",
    "lbl = {\n",
    "    'lbl-key00': ...,\n",
    "    'lbl-key01': ..., etc\n",
    "}\n",
    "```"
   ]
  },
  {
   "cell_type": "markdown",
   "metadata": {},
   "source": [
    "## Testing Client\n",
    "\n",
    "In order to confirm that the Client class has been defined and overloaded properly, we can initialize a test client and load an arbitrary number of cases shown below. Note that instead of the default `client.load()` method (a generic method which requires a number of manually passed argmuments) we instead use the new overloaded `client.get()` method to load images in our preconfigured settings."
   ]
  },
  {
   "cell_type": "code",
   "execution_count": null,
   "metadata": {},
   "outputs": [],
   "source": [
    "def test_client_get():\n",
    "\n",
    "    client = Client(app_context=app_context)\n",
    "    client.prepare(fold=-1)\n",
    "    dats = []\n",
    "    \n",
    "    N = 36\n",
    "    for i in range(N):\n",
    "        \n",
    "        print('Loading study %03i / %03i' % (i + 1, N), end='\\r')\n",
    "        output = client.get()\n",
    "        output = client.create_inputs_dict(output, mode='train')\n",
    "        dats.append(output['dat'])\n",
    "    \n",
    "    montage(np.concatenate(dats))\n",
    "\n",
    "test_client_get()"
   ]
  },
  {
   "cell_type": "markdown",
   "metadata": {},
   "source": [
    "# Overloading cnn.Model()\n",
    "\n",
    "The `cnn.Model()` class provides an object for easy creation and neural network model architectures. Defining several key method overloads will prepare this object with the necessary modifications to be used for CNN training. At minimum, the two key methods that need to be overloaded are:\n",
    "\n",
    "* `self.init_hyperparams_custom()`\n",
    "* custom network definition function \n",
    "\n",
    "An example overloaded class definition is provided below. Continue reading for more information about considerations for overloading the `model` object."
   ]
  },
  {
   "cell_type": "code",
   "execution_count": 5,
   "metadata": {},
   "outputs": [],
   "source": [
    "class Model(cnn.SemanticModel):\n",
    "\n",
    "    def init_hyperparams_custom(self):\n",
    "\n",
    "        self.params['save_dir'] = './exps/unet/exp01' \n",
    "        self.params['batch_size'] = 16 \n",
    "        self.params['iterations'] = 200 \n",
    "\n",
    "        self.params['enet_fn'] = self.create_enet_vgg\n",
    "        self.params['train_ratio'] = {'enet': 1}\n",
    "        self.params['learning_rate'] = {'enet': 1e-3}\n",
    "\n",
    "        self.params['stats_matrix_shape'] = [155, None, None]\n",
    "        self.params['stats_mode'] = 'agg'\n",
    "        self.params['stats_top_model_source'] = {\n",
    "            'name': 'enet',\n",
    "            'node': 'errors',\n",
    "            'target': 'dsc-tumor',\n",
    "            'key': 2}\n",
    "\n",
    "    def create_enet_vgg(self, inputs):\n",
    "\n",
    "        nn_struct = {}\n",
    "\n",
    "        # ------------------------------------------------\n",
    "        # | FEATURE MAP DIMENSIONS|\n",
    "        # L0: 240\n",
    "        # L1: 120-120\n",
    "        # L2: 060-060 \n",
    "        # L3: 030-030 \n",
    "        # L4: 015-015\n",
    "\n",
    "        nn_struct['channels_out'] = [4,\n",
    "            16, 16,\n",
    "            32, 32,\n",
    "            48, 48,\n",
    "            64, 64]\n",
    "\n",
    "        nn_struct['filter_size'] = [[1, 3, 3],\n",
    "            [1, 3, 3], [1, 3, 3],\n",
    "            [1, 3, 3], [1, 3, 3],\n",
    "            [1, 3, 3], [1, 3, 3],\n",
    "            [1, 3, 3], [1, 3, 3]]\n",
    "        \n",
    "        nn_struct['stride'] = [1,\n",
    "            [1, 2, 2], 1,\n",
    "            [1, 2, 2], 1,\n",
    "            [1, 2, 2], 1,\n",
    "            [1, 2, 2], 1]\n",
    "        \n",
    "        nn_struct['decoder'] = True\n",
    "\n",
    "        self.builder.create(\n",
    "            name='E',\n",
    "            nn_struct=nn_struct,\n",
    "            input_layer=inputs[0])\n",
    "\n",
    "        self.create_logits(name='E')"
   ]
  },
  {
   "cell_type": "markdown",
   "metadata": {},
   "source": [
    "## Overloading the self.init_hyperparams_custom() method\n",
    "\n",
    "To define model hyperparameters, overload the `init_hyperparams_custom()` method. Some of the common hyperparameters (with default values) are shown here:\n",
    "\n",
    "```\n",
    "self.params = {\n",
    "    'save_dir': None,               # directory for saving model and metadata\n",
    "    'iterations': 1e6,              # number of training iterations\n",
    "    'batch_size': 1,                # batch size\n",
    "    'learning_rate': None,          # learning rate; no default value (must be set)\n",
    "    'train_ratio': None,            # ratio at which to train different subnetworks; no default value \n",
    "    'optimizer': None,              # optimizer type; by default Adam will be used\n",
    "    'adam_b1': 0.5,                 # b1 for Adam optimizer\n",
    "    'adam_b2': 0.999,               # b2 for Adam optimizer\n",
    "    'l2_beta': 0,                   # lambda constant for L2 regularization\n",
    "}\n",
    "```\n",
    "\n",
    "One key concept to note here is the design choice of *subnetworks*. As needed, defining multiple individual subnetworks using specific conventions (e.g. `lnet`, `enet`, `gnet`, etc) will allow the `cnn` library to orchestrate larger, more complex architectures automatically, and to coordinate the training of each component at specific ratios (specified in the `train_ratio` dictionary entry) and individual learning rates. However the vast majority of standard single-pass feed-forward architectures (classification, U-net, etc) will simply be implemented as just a single *subnetwork*. For standard classification algorithms (VGG, ResNet, Inception, etc) use `lnet` and for fully-convolutional expanding-contracting architectures (U-net, etc) use `enet`. The training ratio for these simple single subnetwork architectures is just `{'lnet': 1}` or `{'enet': 1}` indicating that no special ratio is needed. The corresponding `{'lnet_fn': _}` or `{'enet_fn': _}` simply indicates the particular model architecture function, defined below in the same class, to be used (allows a number of different architecture permutations to be defined in a single template)."
   ]
  },
  {
   "cell_type": "markdown",
   "metadata": {},
   "source": [
    "## Defining the model architecture\n",
    "\n",
    "Models are created using the built-in `self.builder` object. To use the `self.builder.create()` three different parameters must be defined. The most important is the `nn_struct` dictionary which defines the structure of the network. This structure is composed predominantly as a series of lists, with each entry in the list corresponding to a single layer in the neural network. For example the first three layers of a CNN may be defined as follows:\n",
    "```\n",
    "nn_struct = {\n",
    "    'channels_out': [16, 32, 64...],\n",
    "    'filter_size': [[1, 3, 3], [1, 3, 3], [1, 3, 3]...],\n",
    "    'stride': [1, 1, 1...]\n",
    " }\n",
    "```\n",
    "\n",
    "In this particular specification, we defined a total of 3 layers, each consisting of 1x3x3 (essentially 2D) convolutional filters with output feature maps 16, 32 and 64 and with a stride of 1. Note that the input channel sizes are calculated automatically. By default, each of these convolutions will be also followed by a batch normalization operation and a ReLU nonlinearity unless otherwise specified. Some of the most common layer specifications are shown here in the order of implementation within a single layer block:\n",
    "```\n",
    "nn_struct = {\n",
    "    'add_preblock': [...],        # name of layer to add before conv (residual connection); default is None\n",
    "    'filter_size': [...],         # filter sizes (specify 3D filters of size [Z, H, W]); no default\n",
    "    'resize': [...],              # perform nearest neighbor resize (specify feature map of size [Z, H, W]); default is None\n",
    "    'batch_norm': [...],          # True to include; default is True\n",
    "    'add_postblock': [...],       # name of layer to add after conv (residual connection); default is None\n",
    "    'relu': [...],                # use 1 for ReLU, values <1 for leaky ReLU; default is 1\n",
    "    'dropout': [...],             # [0, 1] for rate_to_keep; default is None\n",
    "    'padding': [...],             # 'SAME' or 'VALID'; default is 'SAME'\n",
    "}\n",
    "```\n",
    "Note that for each of these options, a value of `None` will ignore this specific layer component."
   ]
  },
  {
   "cell_type": "markdown",
   "metadata": {},
   "source": [
    "# Training a Network\n",
    "\n",
    "To train a network, we use the `cnn.Network` class. While a number of custom modifications may be applied, the default `Network` class will often suffice for common CNN implementations. After initializing a new `Network` class, simply attach your custom class definitions to the object."
   ]
  },
  {
   "cell_type": "code",
   "execution_count": 8,
   "metadata": {},
   "outputs": [],
   "source": [
    "app_context = {\n",
    "    'db': 'brats',\n",
    "    'tags-series': ['brats-t2', 'brats-flair', 'brats-t1pre', 'brats-t1post'],\n",
    "    'tags-labels': ['tumor']\n",
    "}\n",
    "\n",
    "net = cnn.Network()\n",
    "net.Client = Client\n",
    "net.Model = Model\n",
    "net.Stats = cnn.SemanticStats"
   ]
  },
  {
   "cell_type": "markdown",
   "metadata": {},
   "source": [
    "Next, we need to initialize (build) the network. In this same step, the library will also inspect your entire database for your requested input data and labels and prepare stratified sampling strategies as needed. The `initialize()` call requires the two required arguments are `app_context` (as defined above) and the fold you wish to set as the validation fold (usually start with 0 and cycle through all the other folds iteratively)."
   ]
  },
  {
   "cell_type": "code",
   "execution_count": 9,
   "metadata": {},
   "outputs": [
    {
     "name": "stdout",
     "output_type": "stream",
     "text": [
      "137.912 : Preparing client\n",
      "137.963 : Finding all documents matching tags (0000191)\n",
      "137.975 : Stratifying documents by label (1.0000)\n",
      "137.712 : Initializing graph\n",
      "137.712 : Creating E-net\n",
      "139.781 : Adding logits, losses and errors\n",
      "140.688 : Adding optimizers\n",
      "144.681 : Initializing stats\n",
      "144.784 : Initializing tf.Session\n"
     ]
    }
   ],
   "source": [
    "net.initialize(\n",
    "    app_context=app_context, \n",
    "    fold=0)"
   ]
  },
  {
   "cell_type": "markdown",
   "metadata": {},
   "source": [
    "Now your graph has been built and compiled by the library. At this point the network graph structure itself is stored in the `model` attribute of `net`. Each  graph is stored as a separate dictionary entry into `model`. By default all of your created graphs will have two versions: the default `train` version (standard weights) and a special `valid` version whose weights are composed of the exponential moving average(s) of the `train` version of the model. This is a slight modification and technique that has been known to provide slightly improved results than the standard training weights. Additionally, the validation graph will have all special training mechanisms removed such as dropout, etc.\n",
    "\n",
    "To see all the sizes of intermediate activation layers, select `activations` attribute of the graph of interest:"
   ]
  },
  {
   "cell_type": "code",
   "execution_count": 54,
   "metadata": {},
   "outputs": [
    {
     "data": {
      "text/plain": [
       "{'E/dsc-tumor/layer01-1/conv': <tf.Tensor 'E/dsc-tumor/layer01-1/conv:0' shape=(16, 1, 240, 240, 5) dtype=float32>,\n",
       " 'E/layer01-1/batch_norm': <tf.Tensor 'E/layer01-1_1/truediv:0' shape=(16, 1, 240, 240, 4) dtype=float32>,\n",
       " 'E/layer01-1/conv': <tf.Tensor 'E/layer01-1/conv:0' shape=(16, 1, 240, 240, 4) dtype=float32>,\n",
       " 'E/layer01-1/relu': <tf.Tensor 'E/layer01-1_2/relu:0' shape=(16, 1, 240, 240, 4) dtype=float32>,\n",
       " 'E/layer02-1/batch_norm': <tf.Tensor 'E/layer02-1_1/truediv:0' shape=(16, 1, 120, 120, 16) dtype=float32>,\n",
       " 'E/layer02-1/conv': <tf.Tensor 'E/layer02-1/conv:0' shape=(16, 1, 120, 120, 16) dtype=float32>,\n",
       " 'E/layer02-1/relu': <tf.Tensor 'E/layer02-1_2/relu:0' shape=(16, 1, 120, 120, 16) dtype=float32>,\n",
       " 'E/layer02-2/batch_norm': <tf.Tensor 'E/layer02-2_1/truediv:0' shape=(16, 1, 120, 120, 16) dtype=float32>,\n",
       " 'E/layer02-2/conv': <tf.Tensor 'E/layer02-2/conv:0' shape=(16, 1, 120, 120, 16) dtype=float32>,\n",
       " 'E/layer02-2/relu': <tf.Tensor 'E/layer02-2_2/relu:0' shape=(16, 1, 120, 120, 16) dtype=float32>,\n",
       " 'E/layer03-1/batch_norm': <tf.Tensor 'E/layer03-1_1/truediv:0' shape=(16, 1, 60, 60, 32) dtype=float32>,\n",
       " 'E/layer03-1/conv': <tf.Tensor 'E/layer03-1/conv:0' shape=(16, 1, 60, 60, 32) dtype=float32>,\n",
       " 'E/layer03-1/relu': <tf.Tensor 'E/layer03-1_2/relu:0' shape=(16, 1, 60, 60, 32) dtype=float32>,\n",
       " 'E/layer03-2/batch_norm': <tf.Tensor 'E/layer03-2_1/truediv:0' shape=(16, 1, 60, 60, 32) dtype=float32>,\n",
       " 'E/layer03-2/conv': <tf.Tensor 'E/layer03-2/conv:0' shape=(16, 1, 60, 60, 32) dtype=float32>,\n",
       " 'E/layer03-2/relu': <tf.Tensor 'E/layer03-2_2/relu:0' shape=(16, 1, 60, 60, 32) dtype=float32>,\n",
       " 'E/layer04-1/batch_norm': <tf.Tensor 'E/layer04-1_1/truediv:0' shape=(16, 1, 30, 30, 48) dtype=float32>,\n",
       " 'E/layer04-1/conv': <tf.Tensor 'E/layer04-1/conv:0' shape=(16, 1, 30, 30, 48) dtype=float32>,\n",
       " 'E/layer04-1/relu': <tf.Tensor 'E/layer04-1_2/relu:0' shape=(16, 1, 30, 30, 48) dtype=float32>,\n",
       " 'E/layer04-2/batch_norm': <tf.Tensor 'E/layer04-2_1/truediv:0' shape=(16, 1, 30, 30, 48) dtype=float32>,\n",
       " 'E/layer04-2/conv': <tf.Tensor 'E/layer04-2/conv:0' shape=(16, 1, 30, 30, 48) dtype=float32>,\n",
       " 'E/layer04-2/relu': <tf.Tensor 'E/layer04-2_2/relu:0' shape=(16, 1, 30, 30, 48) dtype=float32>,\n",
       " 'E/layer05-1/batch_norm': <tf.Tensor 'E/layer05-1_1/truediv:0' shape=(16, 1, 15, 15, 64) dtype=float32>,\n",
       " 'E/layer05-1/conv': <tf.Tensor 'E/layer05-1/conv:0' shape=(16, 1, 15, 15, 64) dtype=float32>,\n",
       " 'E/layer05-1/relu': <tf.Tensor 'E/layer05-1_2/relu:0' shape=(16, 1, 15, 15, 64) dtype=float32>,\n",
       " 'E/layer05-2/batch_norm': <tf.Tensor 'E/layer05-2_1/truediv:0' shape=(16, 1, 15, 15, 64) dtype=float32>,\n",
       " 'E/layer05-2/conv': <tf.Tensor 'E/layer05-2/conv:0' shape=(16, 1, 15, 15, 64) dtype=float32>,\n",
       " 'E/layer05-2/relu': <tf.Tensor 'E/layer05-2_2/relu:0' shape=(16, 1, 15, 15, 64) dtype=float32>,\n",
       " 'E/layer06-1/add_postblock': <tf.Tensor 'E/layer06-1_2/add_postblock:0' shape=(16, 1, 30, 30, 48) dtype=float32>,\n",
       " 'E/layer06-1/batch_norm': <tf.Tensor 'E/layer06-1_1/truediv:0' shape=(16, 1, 30, 30, 48) dtype=float32>,\n",
       " 'E/layer06-1/convt': <tf.Tensor 'E/layer06-1/convt:0' shape=(16, 1, 30, 30, 48) dtype=float32>,\n",
       " 'E/layer06-1/relu': <tf.Tensor 'E/layer06-1_3/relu:0' shape=(16, 1, 30, 30, 48) dtype=float32>,\n",
       " 'E/layer06-2/batch_norm': <tf.Tensor 'E/layer06-2_1/truediv:0' shape=(16, 1, 30, 30, 48) dtype=float32>,\n",
       " 'E/layer06-2/conv': <tf.Tensor 'E/layer06-2/conv:0' shape=(16, 1, 30, 30, 48) dtype=float32>,\n",
       " 'E/layer06-2/relu': <tf.Tensor 'E/layer06-2_2/relu:0' shape=(16, 1, 30, 30, 48) dtype=float32>,\n",
       " 'E/layer07-1/add_postblock': <tf.Tensor 'E/layer07-1_2/add_postblock:0' shape=(16, 1, 60, 60, 32) dtype=float32>,\n",
       " 'E/layer07-1/batch_norm': <tf.Tensor 'E/layer07-1_1/truediv:0' shape=(16, 1, 60, 60, 32) dtype=float32>,\n",
       " 'E/layer07-1/convt': <tf.Tensor 'E/layer07-1/convt:0' shape=(16, 1, 60, 60, 32) dtype=float32>,\n",
       " 'E/layer07-1/relu': <tf.Tensor 'E/layer07-1_3/relu:0' shape=(16, 1, 60, 60, 32) dtype=float32>,\n",
       " 'E/layer07-2/batch_norm': <tf.Tensor 'E/layer07-2_1/truediv:0' shape=(16, 1, 60, 60, 32) dtype=float32>,\n",
       " 'E/layer07-2/conv': <tf.Tensor 'E/layer07-2/conv:0' shape=(16, 1, 60, 60, 32) dtype=float32>,\n",
       " 'E/layer07-2/relu': <tf.Tensor 'E/layer07-2_2/relu:0' shape=(16, 1, 60, 60, 32) dtype=float32>,\n",
       " 'E/layer08-1/add_postblock': <tf.Tensor 'E/layer08-1_2/add_postblock:0' shape=(16, 1, 120, 120, 16) dtype=float32>,\n",
       " 'E/layer08-1/batch_norm': <tf.Tensor 'E/layer08-1_1/truediv:0' shape=(16, 1, 120, 120, 16) dtype=float32>,\n",
       " 'E/layer08-1/convt': <tf.Tensor 'E/layer08-1/convt:0' shape=(16, 1, 120, 120, 16) dtype=float32>,\n",
       " 'E/layer08-1/relu': <tf.Tensor 'E/layer08-1_3/relu:0' shape=(16, 1, 120, 120, 16) dtype=float32>,\n",
       " 'E/layer08-2/batch_norm': <tf.Tensor 'E/layer08-2_1/truediv:0' shape=(16, 1, 120, 120, 16) dtype=float32>,\n",
       " 'E/layer08-2/conv': <tf.Tensor 'E/layer08-2/conv:0' shape=(16, 1, 120, 120, 16) dtype=float32>,\n",
       " 'E/layer08-2/relu': <tf.Tensor 'E/layer08-2_2/relu:0' shape=(16, 1, 120, 120, 16) dtype=float32>,\n",
       " 'E/layer09-1/add_postblock': <tf.Tensor 'E/layer09-1_2/add_postblock:0' shape=(16, 1, 240, 240, 4) dtype=float32>,\n",
       " 'E/layer09-1/batch_norm': <tf.Tensor 'E/layer09-1_1/truediv:0' shape=(16, 1, 240, 240, 4) dtype=float32>,\n",
       " 'E/layer09-1/convt': <tf.Tensor 'E/layer09-1/convt:0' shape=(16, 1, 240, 240, 4) dtype=float32>,\n",
       " 'E/layer09-1/relu': <tf.Tensor 'E/layer09-1_3/relu:0' shape=(16, 1, 240, 240, 4) dtype=float32>,\n",
       " 'E/layer09-2/batch_norm': <tf.Tensor 'E/layer09-2_1/truediv:0' shape=(16, 1, 240, 240, 4) dtype=float32>,\n",
       " 'E/layer09-2/conv': <tf.Tensor 'E/layer09-2/conv:0' shape=(16, 1, 240, 240, 4) dtype=float32>,\n",
       " 'E/layer09-2/relu': <tf.Tensor 'E/layer09-2_2/relu:0' shape=(16, 1, 240, 240, 4) dtype=float32>}"
      ]
     },
     "execution_count": 54,
     "metadata": {},
     "output_type": "execute_result"
    }
   ],
   "source": [
    "net.model.graphs['E-train'].activations"
   ]
  },
  {
   "cell_type": "code",
   "execution_count": 55,
   "metadata": {},
   "outputs": [
    {
     "data": {
      "text/plain": [
       "{'train': {'dsc-tumor': <tf.Tensor 'E/dsc-tumor/layer01-1/conv:0' shape=(16, 1, 240, 240, 5) dtype=float32>},\n",
       " 'valid': {'dsc-tumor': <tf.Tensor 'E/dsc-tumor/layer01-1_1/conv:0' shape=(?, ?, 240, 240, 5) dtype=float32>}}"
      ]
     },
     "execution_count": 55,
     "metadata": {},
     "output_type": "execute_result"
    }
   ],
   "source": [
    "net.model.logits"
   ]
  },
  {
   "cell_type": "markdown",
   "metadata": {},
   "source": [
    "If that looks good, we are now ready to train:"
   ]
  },
  {
   "cell_type": "code",
   "execution_count": 10,
   "metadata": {},
   "outputs": [
    {
     "name": "stdout",
     "output_type": "stream",
     "text": [
      "197.812 : Starting training\n",
      "\n",
      "          |----------------------------------------------------------------------------------------------------------------------------------------------|\n",
      "          | enet                                                                                                                                         |\n",
      "          |----------------------------------------------------------------------------------------------------------------------------------------------|\n",
      "          | train                                                                      | valid                                                           |\n",
      "          | dsc-tumo | l2norm   | tumor-0  | tumor-1  | tumor-2  | tumor-3  | tumor-4  | dsc-tumo | tumor-0  | tumor-1  | tumor-2  | tumor-3  | tumor-4  |\n",
      "          |----------------------------------------------------------------------------------------------------------------------------------------------|\n",
      "0000198 > | -10.2031 | 0.000000 | 0.854924 | 0.010035 | 0.127888 | 0.016015 | 0.294385 | -8.46875 | 0.861221 | 0.015426 | 0.127553 | 0.015242 | 0.287088 | "
     ]
    }
   ],
   "source": [
    "net.train()"
   ]
  },
  {
   "cell_type": "markdown",
   "metadata": {},
   "source": [
    "In the default training paradigm implemented by the `cnn` library, training and validation sets are evaluated simultaneously for real-time monitoring of current training dynamics at any given time point. All individual components of the loss function are reported, as are all defined errror metrics (e.g. top-K for classification, Dice score for segmentation, etc). "
   ]
  },
  {
   "cell_type": "markdown",
   "metadata": {},
   "source": [
    "## Multithreaded Training\n",
    "\n",
    "A significant bottleneck to CNN training is loading data into memory (and subsequently GPU) for training. Given the single-threaded nature of Python, typically the data loading process for the next iteration does not begin to occur until the current training iteration has completed. To use a custom asynchronous load function to significantly increase training speed, pass three additional parameters to the `initialize()` call: threads, batch and capacity:\n",
    "\n",
    "* threads: number of separate independent threads to use (consider the # of total CPU threads available on your machine)\n",
    "* batch: total number of exams to be loaded by each thread at a time in a single batch\n",
    "* capacity: total number of studies to be pre-loaded in the queue\n",
    "\n",
    "Note that the number of threads x batch should a multiple of the training batch size (minimum 2 to 3 times greater) otherwise one iteration of the asynchronous processs will not load enough data for a single pass through the network. The following default parameters are reasonable for our starting batch size of 16 images."
   ]
  },
  {
   "cell_type": "code",
   "execution_count": null,
   "metadata": {},
   "outputs": [],
   "source": [
    "app_context = {\n",
    "    'db': 'brats',\n",
    "    'ip_mongodb': '160.87.25.45',\n",
    "    'tags-series': ['brats-t2', 'brats-flair', 'brats-t1pre', 'brats-t1post'],\n",
    "    'tags-labels': ['tumor']\n",
    "}\n",
    "\n",
    "net = cnn.Network()\n",
    "net.Client = Client\n",
    "net.Model = Model\n",
    "\n",
    "net.initialize(\n",
    "    app_context=app_context, \n",
    "    fold=0,\n",
    "    threads=2, \n",
    "    batch=32,\n",
    "    capacity=128\n",
    ")"
   ]
  },
  {
   "cell_type": "code",
   "execution_count": null,
   "metadata": {},
   "outputs": [],
   "source": [
    "net.train()"
   ]
  },
  {
   "cell_type": "markdown",
   "metadata": {},
   "source": [
    "## Training statistics\n",
    "\n",
    "All training statistics are stored in a Pickled dictionary file. This file can be easily loaded and viewed using the `cnn.Viewer` class. To do so, simply pass the training directory to the initial class instantiation. To view training dynamcis over time, simply pass the subnetwork name (`lnet`, `enet`, etc), node (either `errors` or `losses`), target / label. For losses, no other information is required because the error type is defined by the label itself (e.g. `sce-` for sigmoid cross entropy). For errors, an error key is needed given that a number of possible error metrics may exist for a given label."
   ]
  },
  {
   "cell_type": "markdown",
   "metadata": {},
   "source": [
    "While the current Python kernel is engaged in algorithm training, it may be worthwhile to load a second kernel (new Jupyter notebook, new Python shell, etc) to concurrently graph training loss / error curves over time. "
   ]
  },
  {
   "cell_type": "code",
   "execution_count": 22,
   "metadata": {},
   "outputs": [
    {
     "data": {
      "image/png": "[encoded data removed]",
      "text/plain": [
       "<Figure size 432x288 with 1 Axes>"
      ]
     },
     "metadata": {},
     "output_type": "display_data"
    }
   ],
   "source": [
    "viewer = cnn.Viewer('./exps/unet/exp01')\n",
    "viewer.graph(name='enet', node='errors', target='dsc-tumor', key=3)"
   ]
  },
  {
   "cell_type": "code",
   "execution_count": null,
   "metadata": {},
   "outputs": [],
   "source": []
  }
 ],
 "metadata": {
  "kernelspec": {
   "display_name": "Python 3",
   "language": "python",
   "name": "python3"
  },
  "language_info": {
   "codemirror_mode": {
    "name": "ipython",
    "version": 3
   },
   "file_extension": ".py",
   "mimetype": "text/x-python",
   "name": "python",
   "nbconvert_exporter": "python",
   "pygments_lexer": "ipython3",
   "version": "3.5.5"
  }
 },
 "nbformat": 4,
 "nbformat_minor": 2
}
