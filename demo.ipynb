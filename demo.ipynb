{
 "cells": [
  {
   "cell_type": "markdown",
   "metadata": {},
   "source": [
    "# Overview\n",
    "\n",
    "In this notebook we introduce some basic functionality of the custom `cnn` library.\n",
    "\n",
    "## Choosing GPU\n",
    "\n",
    "Recall that by default Tensorflow will use every free GPU available. Use the following code to choose one specific GPU to run your code. Also, after you are finished, to release your current GPU, make sure that the current iPython kernel is closed (File > Close & Halt, or Kernel > Shutdown)."
   ]
  },
  {
   "cell_type": "code",
   "execution_count": null,
   "metadata": {},
   "outputs": [],
   "source": [
    "import os\n",
    "os.environ['CUDA_DEVICE_ORDER']= 'PCI_BUS_ID'\n",
    "os.environ['CUDA_VISIBLE_DEVICES']= '0'\n",
    "from tensorflow.python.client import device_lib\n",
    "print(device_lib.list_local_devices())"
   ]
  },
  {
   "cell_type": "markdown",
   "metadata": {},
   "source": [
    "## Import\n",
    "\n",
    "The following libraries will be used in this tutorial. The custom montage module is a pylab wrapper for quickly visualizing 3D grayscale images."
   ]
  },
  {
   "cell_type": "code",
   "execution_count": null,
   "metadata": {},
   "outputs": [],
   "source": [
    "import cnn\n",
    "import numpy as np\n",
    "from montage import montage"
   ]
  },
  {
   "cell_type": "markdown",
   "metadata": {},
   "source": [
    "# Client Class\n",
    "\n",
    "The `cnn.utils.Client` class is used to interact with underlying database images. As needed, the `cnn.db.Manager()` class can be used to interact with the MongoDB database."
   ]
  },
  {
   "cell_type": "code",
   "execution_count": null,
   "metadata": {},
   "outputs": [],
   "source": [
    "# Initializing a Client class\n",
    "app_context = {\n",
    "    'name': 'brats',\n",
    "    'ip_mongodb': '160.87.25.45',\n",
    "    'tags-series': ['brats-t2'],\n",
    "    'tags-labels': ['tumor']\n",
    "}\n",
    "\n",
    "client = cnn.utils.Client(app_context)"
   ]
  },
  {
   "cell_type": "code",
   "execution_count": null,
   "metadata": {},
   "outputs": [],
   "source": [
    "# Initializing a Manager class\n",
    "\n",
    "man = cnn.db.Manager(ip='160.87.25.45')\n",
    "man.use()"
   ]
  },
  {
   "cell_type": "code",
   "execution_count": null,
   "metadata": {},
   "outputs": [],
   "source": [
    "def test_client():\n",
    "    \n",
    "    infos = {\n",
    "        'shape': [1, 240, 240],\n",
    "        'tiles': [1, 0, 0]\n",
    "    }\n",
    "\n",
    "    # vol['dat'] contains data\n",
    "    # vol['lbl'] contains label(s)\n",
    "    vol = client.load_next(random=True, infos=infos)\n",
    "\n",
    "    # Determine tumor presence based on max label\n",
    "    tumor = np.max(vol['lbl'])\n",
    "    tumor = 'tumor' if tumor > 0 else 'no tumor'\n",
    "    print(tumor)\n",
    "    montage(vol['dat'][..., 0])\n",
    "    montage(vol['lbl'])\n",
    "    print(vol['dat'].shape)"
   ]
  },
  {
   "cell_type": "markdown",
   "metadata": {},
   "source": [
    "## Overloading Client\n",
    "\n",
    "Recall in object-oriented programming, template objects can be overloaded with custom methods (and variables) based on a specific task. Here we use the templte Client class to create our own unique Client to handle data for our specific experiment."
   ]
  },
  {
   "cell_type": "code",
   "execution_count": null,
   "metadata": {},
   "outputs": [],
   "source": [
    "class Client(cnn.utils.Client):\n",
    "    \n",
    "    def init_client(self):\n",
    "        \"\"\"\n",
    "        Method to set default experiment specific variables\n",
    "        \n",
    "        \"\"\"\n",
    "        self.infos = {\n",
    "            'shape': [1, 240, 240],\n",
    "            'tiles': [1, 0, 0]\n",
    "        }\n",
    "        \n",
    "        self.inputs = {\n",
    "            'dtypes': {},\n",
    "            'shapes': {},\n",
    "            'classes': {}\n",
    "        }\n",
    "        \n",
    "        self.inputs['dtypes']['dat'] = 'float32'\n",
    "        self.inputs['shapes']['dat'] = [1, 240, 240, 1]\n",
    "        \n",
    "        self.inputs['dtypes']['sce-tumor'] = 'int32'\n",
    "        self.inputs['shapes']['sce-tumor'] = [1, 1, 1, 1]\n",
    "        self.inputs['classes']['sce-tumor'] = 2 \n",
    "        \n",
    "        self.dist = {\n",
    "            0: 0.50, \n",
    "            1: 0.125, \n",
    "            2: 0.125, \n",
    "            3: 0.125, \n",
    "            4: 0.125}\n",
    "        \n",
    "        self.mode = 'mixed'\n",
    "        self.iids = {}\n",
    "        self.x = {}\n",
    "        \n",
    "    def get(self, mode=None, random=True):\n",
    "        \"\"\"\n",
    "        Method to load a single train/valid study\n",
    "        \n",
    "        \"\"\"\n",
    "        # Load data\n",
    "        next_doc = self.next_doc(mode=mode, random=True)\n",
    "        vol = self.load(doc=next_doc['doc'], infos=next_doc['infos'])\n",
    "        \n",
    "        # Preprocessing\n",
    "        if vol['dat'].any():\n",
    "            vol['dat'] = (vol['dat'] - np.mean(vol['dat'])) / np.std(vol['dat'])\n",
    "        else:\n",
    "            vol['dat'][:] = -1\n",
    "        \n",
    "        # Manually convert mask labels to classification labels\n",
    "        tumor = np.max(vol['lbl'])\n",
    "        tumor = 1 if tumor == 0 else 2\n",
    "        vol['lbl'] = np.array(tumor).reshape(1, 1, 1, 1)\n",
    "        \n",
    "        # Create nested vol dictionary\n",
    "        vol['lbl'] = {'sce-tumor': vol['lbl']}\n",
    "        \n",
    "        return self.return_get(next_doc, vol)"
   ]
  },
  {
   "cell_type": "code",
   "execution_count": null,
   "metadata": {},
   "outputs": [],
   "source": [
    "def test_get():\n",
    "\n",
    "    client = Client(\n",
    "        app_context=app_context,\n",
    "        # threads=2, \n",
    "        # batch=16,\n",
    "        # capacity=128\n",
    "    )\n",
    "    client.prepare(fold=-1)\n",
    "    dats = []\n",
    "    \n",
    "    for i in range(256):\n",
    "        \n",
    "        print('Loading study %03i' % i, end='\\r')\n",
    "        output = client.get_async(mode='mixed')\n",
    "        output = client.create_inputs_dict(output, mode='train')\n",
    "        dats.append(output['dat'])\n",
    "    \n",
    "    montage(np.concatenate(dats), vm=[-1, 5])\n",
    "\n",
    "test_get()"
   ]
  },
  {
   "cell_type": "markdown",
   "metadata": {},
   "source": [
    "# Model Class\n",
    "\n",
    "The `cnn.Model` class is used to define our neural network model (graph), in addition to all our training hyperparameters. "
   ]
  },
  {
   "cell_type": "code",
   "execution_count": null,
   "metadata": {},
   "outputs": [],
   "source": [
    "class Model(cnn.ClassicModel):\n",
    "\n",
    "    def init_hyperparams_custom(self):\n",
    "\n",
    "        self.params['save_dir'] = fdir \n",
    "        self.params['batch_size'] = 16 \n",
    "        self.params['iterations'] = 50 \n",
    "\n",
    "        self.params['lnet_fn'] = self.create_lnet_residual\n",
    "\n",
    "        self.params['train_ratio'] = {'lnet': 1}\n",
    "        self.params['learning_rate'] = {'lnet': 1e-3}\n",
    "\n",
    "        self.params['stats_mode'] = 'ema'\n",
    "        self.params['stats_top_model_source'] = {\n",
    "            'name': 'lnet',\n",
    "            'node': 'errors',\n",
    "            'target': 'sce-tumor',\n",
    "            'key': 'topk'}\n",
    "\n",
    "    def create_lnet_residual(self, inputs):\n",
    "\n",
    "        nn_struct = {}\n",
    "\n",
    "        # ------------------------------------------------\n",
    "        # | FEATURE MAP DIMENSIONS|\n",
    "        # L1: 120-120\n",
    "        # L2: 060-060 \n",
    "        # L3: 030-030 \n",
    "        # L4: 015-015\n",
    "        # L5: 007-007\n",
    "\n",
    "        nn_struct['channels_out'] = [\n",
    "            16, 16,\n",
    "            32, 32,\n",
    "            48, 48,\n",
    "            64, 64,\n",
    "            96, 96]\n",
    "\n",
    "        nn_struct['filter_size'] = [\n",
    "            [1, 7, 7], [1, 3, 3],\n",
    "            [1, 3, 3], [1, 3, 3],\n",
    "            [1, 3, 3], [1, 3, 3],\n",
    "            [1, 3, 3], [1, 3, 3],\n",
    "            [1, 3, 3], [1, 3, 3]]\n",
    "        \n",
    "        nn_struct['stride'] = [\n",
    "            [1, 2, 2], 1,\n",
    "            [1, 2, 2], 1,\n",
    "            [1, 2, 2], 1,\n",
    "            [1, 2, 2], 1,\n",
    "            [1, 2, 2], 1]\n",
    "\n",
    "        self.builder.create(\n",
    "            name='L',\n",
    "            nn_struct=nn_struct,\n",
    "            input_layer=inputs[0])\n",
    "\n",
    "        self.builder.graph.output['layer'] = self.flatten(self.builder.graph.output['layer'])\n",
    "        self.create_logits(name='L')"
   ]
  },
  {
   "cell_type": "code",
   "execution_count": null,
   "metadata": {},
   "outputs": [],
   "source": [
    "fdir = '/home/peter/caidm_brats/exps/classic/exp01'\n",
    "\n",
    "net = cnn.Network()\n",
    "net.Client = Client\n",
    "net.Model = Model\n",
    "\n",
    "net.initialize(\n",
    "    app_context=app_context, \n",
    "    fold=0,\n",
    "    threads=2, \n",
    "    batch=32,\n",
    "    capacity=128\n",
    ")"
   ]
  },
  {
   "cell_type": "code",
   "execution_count": null,
   "metadata": {},
   "outputs": [],
   "source": [
    "net.train()"
   ]
  },
  {
   "cell_type": "code",
   "execution_count": null,
   "metadata": {},
   "outputs": [],
   "source": [
    "viewer = cnn.Viewer('/home/peter/caidm_brats/exps/classic/exp01')\n",
    "viewer.graph(name='lnet', node='errors', target='sce-tumor', key='topk')"
   ]
  },
  {
   "cell_type": "code",
   "execution_count": null,
   "metadata": {},
   "outputs": [],
   "source": [
    "# Need kernel restart before running\n",
    "def run_inference():\n",
    "\n",
    "    client = Client(app_context=app_context)\n",
    "    client.prepare(fold=0)\n",
    "\n",
    "    inf = cnn.Inference(\n",
    "        path='/home/peter/caidm_brats/exps/classic/exp01/final',\n",
    "        client=client)\n",
    "    \n",
    "    results = inf.run_valid(n=1, draw=False)\n",
    "    \n",
    "    print(results['studyids'])\n",
    "    print(results['logits'])\n",
    "\n",
    "run_inference()"
   ]
  },
  {
   "cell_type": "code",
   "execution_count": null,
   "metadata": {},
   "outputs": [],
   "source": []
  }
 ],
 "metadata": {
  "kernelspec": {
   "display_name": "Python 3",
   "language": "python",
   "name": "python3"
  },
  "language_info": {
   "codemirror_mode": {
    "name": "ipython",
    "version": 3
   },
   "file_extension": ".py",
   "mimetype": "text/x-python",
   "name": "python",
   "nbconvert_exporter": "python",
   "pygments_lexer": "ipython3",
   "version": "3.5.4"
  }
 },
 "nbformat": 4,
 "nbformat_minor": 2
}
