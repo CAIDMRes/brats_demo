{
 "cells": [
  {
   "cell_type": "markdown",
   "metadata": {},
   "source": [
    "# Overview\n",
    "\n",
    "Once images (and labels) are loaded into the database, access is mediated primarily through two classes. For MongoDB interactions, the majority of needed functionality is provided with the `cnn.db.Manager()` class. For access to underlying imaging data, including loading images as NumPy arrays, the majority of needed functionality is provided with the `cnn.utils.Client()` class.\n",
    "\n",
    "The cnn package for implementing all functionality described here can be imported with a single module:"
   ]
  },
  {
   "cell_type": "code",
   "execution_count": null,
   "metadata": {},
   "outputs": [],
   "source": [
    "import cnn"
   ]
  },
  {
   "cell_type": "markdown",
   "metadata": {},
   "source": [
    "# MongoDB Interactions\n",
    "\n",
    "MongoDB interactions are mediated primarily through the `cnn.db.Manager()` class. For most the most part, these interactions are abstracted away by higher-level classes that simply use `cnn.db.Manager()` for low-level manipulation. Usually, use of these other more high-level classes (such as `cnn.db.Importer()`) will provide all the database interaction that is necessary. However for debugging or other purposes, access to the `Manager()` class may be useful and thus described here."
   ]
  },
  {
   "cell_type": "markdown",
   "metadata": {},
   "source": [
    "## cnn.db.Manager() class\n",
    "\n",
    "The `cnn.db.Manager()` class provides an object for database interaction. It is initialized with just three arguments:\n",
    "\n",
    "* ip: MongoDB IP address (by default `127.0.0.1` for local build)\n",
    "* port: MongoDB port (by default `27017`)\n",
    "* verbose: output help (by default True)\n",
    "\n",
    "After initializing the object itself, the next step is to select the Mongo database and the respective Mongo collection. Both are set using the `self.use(db, collection=None)` method. In this particular call, the only required argument is the database name (`db`). If no `collection` is provided, by default the first available collection is used. Most often times this is sufficient since all images are automatically imported into the `images` collection which typically will be the only collection available in a database (by default). Both the current `db` and `collection` used by the the object will be saved in the `self.loc` dictiontary."
   ]
  },
  {
   "cell_type": "code",
   "execution_count": null,
   "metadata": {},
   "outputs": [],
   "source": [
    "def init_manager(verbose=True):\n",
    "    \"\"\"\n",
    "    Example showing how to:\n",
    "    \n",
    "      (1) Create Manager() class\n",
    "      (2) Set to the 'mnist' database (and `images` collection)\n",
    "      \n",
    "    \"\"\"\n",
    "    man = cnn.db.Manager(verbose=verbose)\n",
    "    man.use('mnist', verbose=verbose)\n",
    "    \n",
    "    return man\n",
    "\n",
    "%time init_manager()"
   ]
  },
  {
   "cell_type": "markdown",
   "metadata": {},
   "source": [
    "## Basic functionality\n",
    "\n",
    "Basic `Manager()` functionality to display general status and overview of database contents includes:\n",
    "\n",
    "* `man.pwd()`: list the current db/collection names\n",
    "* `man.l()`: list the documents inside the current db/collection\n",
    "* `man.summary()`: list summary of documents inside current db/collection"
   ]
  },
  {
   "cell_type": "code",
   "execution_count": null,
   "metadata": {},
   "outputs": [],
   "source": [
    "def demo_pwd():\n",
    "    \"\"\"\n",
    "    Example showing how to:\n",
    "    \n",
    "      (1) Create Manager() class\n",
    "      (2) List current db/collection names\n",
    "      \n",
    "    \"\"\"\n",
    "    man = init_manager(verbose=False)\n",
    "    man.pwd()\n",
    "    \n",
    "%time demo_pwd()"
   ]
  },
  {
   "cell_type": "code",
   "execution_count": null,
   "metadata": {},
   "outputs": [],
   "source": [
    "def demo_l():\n",
    "    \"\"\"\n",
    "    Example showing how to:\n",
    "    \n",
    "      (1) Create Manager() class\n",
    "      (2) List documents in current db/collection\n",
    "      \n",
    "    \"\"\"\n",
    "    man = init_manager(verbose=False)\n",
    "    man.l()\n",
    "    \n",
    "%time demo_l()"
   ]
  },
  {
   "cell_type": "code",
   "execution_count": null,
   "metadata": {},
   "outputs": [],
   "source": [
    "def demo_summary():\n",
    "    \"\"\"\n",
    "    Example showing how to:\n",
    "    \n",
    "      (1) Create Manager() class\n",
    "      (2) List summary of current db/collection\n",
    "      \n",
    "    \"\"\"\n",
    "    man = init_manager(verbose=False)\n",
    "    man.summary()\n",
    "    \n",
    "%time demo_summary()"
   ]
  },
  {
   "cell_type": "markdown",
   "metadata": {},
   "source": [
    "## Database  manipulation\n",
    "\n",
    "Commands for database manipulation are based on names and syntax identical to (or similar to) the MongoDB API. Common useful functions include:\n",
    "\n",
    "* `man.find_one()`: find a (single) document matching the specified search criteria\n",
    "* `man.random()`: find random document(s) matching specified criteria\n",
    "* `man.replace_one()`: replace a single document\n",
    "* `man.insert_one()`: insert a new document\n",
    "* `man.update_many()`: update many documents mathcing specified criteria"
   ]
  },
  {
   "cell_type": "markdown",
   "metadata": {},
   "source": [
    "# Data access\n",
    "\n",
    "To access underlying pixel data of imported files, use the `cnn.utils.Client()` class initialized with the proper `app_context` variable.\n",
    "\n",
    "## Application context\n",
    "\n",
    "As in the data import pipeline, the behavior of database interactions is defined by the `app_context` dictionary. Please refer to the the prior documentation for options regarding manually defining, intializing, saving, loading and deleting application contexts.\n",
    "\n",
    "In these examples, we will assume that data has already been imported into the 'mnist' database using the `app_context` named 'mnist_test', the default values of which have already been saved to the `app` database."
   ]
  },
  {
   "cell_type": "code",
   "execution_count": null,
   "metadata": {},
   "outputs": [],
   "source": [
    "def load_app_context():\n",
    "    \"\"\"\n",
    "    Example showing how to:\n",
    "    \n",
    "      (1) Load a saved app_context\n",
    "    \n",
    "    \"\"\"\n",
    "    app_context = cnn.db.init_app_context({'name': 'mnist_test'})\n",
    "    \n",
    "    return app_context\n",
    "\n",
    "%time load_app_context()"
   ]
  },
  {
   "cell_type": "markdown",
   "metadata": {},
   "source": [
    "## cnn.utils.Client() class\n",
    "\n",
    "The `cnn.utils.Client()` class provides an object for easy interaction with imported data. To initialize simply provide the `Client()` with an appropriate `app_context` that defines the `db` (and `collection`) that is to be accessed. In addition specific tags for either series and/or labels data must be provided in the form of a list to identify the correct subset of data to load. In our example test import from prior, only a single tag `mnist-all` was added however throughout the course of many experiments, a single dataset may in fact be used for a number of different related projects. In these situations, the multiple tags associated with any particular study can be used to identify the correct cohorot of patients for any given project."
   ]
  },
  {
   "cell_type": "code",
   "execution_count": null,
   "metadata": {},
   "outputs": [],
   "source": [
    "def init_client():\n",
    "    \"\"\"\n",
    "    Example showing how to:\n",
    "    \n",
    "      (1) Load app_context\n",
    "      (2) Specific app_context['tags-series']\n",
    "      (3) Initialize client\n",
    "      \n",
    "    \"\"\"\n",
    "    app_context = load_app_context()\n",
    "    app_context['tags-series'] = ['mnist-all']\n",
    "    client = cnn.utils.Client(app_context)\n",
    "\n",
    "    return client"
   ]
  },
  {
   "cell_type": "markdown",
   "metadata": {},
   "source": [
    "## Loading data\n",
    "\n",
    "There are several ways to load data with `client` object. Regardless of method, the return is a dictionary `vol` where `vol['dat']` contains a 4D Numpy array with the selected series (Z x Y x X x C where a total of C number of series are stacked along the fourth dimension if more than one series is requested), and `vol['lbl']` contains the corresponding 4D Numpy array with the selected label masks (if requested). The simplest method is to use the `client.load_next(random)` function. This approach allows loading of data either sequentially or randomly:\n",
    "\n",
    "1. `client.load_next(random=False)`: loads single example of data sequentially from database (matching `app_context`)\n",
    "2. `client.load_next(random=True)`: loads random example of data from database (matching `app_context`)"
   ]
  },
  {
   "cell_type": "code",
   "execution_count": null,
   "metadata": {},
   "outputs": [],
   "source": [
    "def load_next():\n",
    "    \"\"\"\n",
    "    Example showing how to:\n",
    "    \n",
    "      (1) Initialize client\n",
    "      (2) Load first study \n",
    "      (3) Load random study\n",
    "      \n",
    "    \"\"\"\n",
    "    client = init_client()\n",
    "    \n",
    "    vol = client.load_next(random=False)\n",
    "    assert vol['dat'].shape == (1, 28, 28, 1)\n",
    "    \n",
    "    vol = client.load_next(random=True)\n",
    "    assert vol['dat'].shape == (1, 28, 28, 1)\n",
    "    \n",
    "%time load_next()"
   ]
  },
  {
   "cell_type": "markdown",
   "metadata": {},
   "source": [
    "While simple to use, the `client.load_next()` method offers relatively little control over opening a specific desired exam. If this is instead desired, use the `client.load()` method instead. This (slightly more complex) approach is divided into two stages:\n",
    "\n",
    "1. Determine the MongoDB document of the study to load.\n",
    "2. Feed document into `client.load(doc, infos={})`\n",
    "\n",
    "The two key parameters for the `client.load()` method are `doc` and `infos` dictionaries. See below for further discussion.\n",
    "\n",
    "### Document\n",
    "\n",
    "Depending on approach, the document can be obtained using the `cnn.db.Manager()` class (if you wish to search the database for a specific`studyid` or some other criteria), or alternatively be identified using the `client.next_doc()` method. The latter approach allows for fine-tuned control over which data to load, including:\n",
    "\n",
    "* `client.next_doc(mode)`: specifying either 'train', 'valid', or 'mixed' (default) study\n",
    "* `client.next_doc(random)`: sequential (random=False; default) or random (random=True) study\n",
    "* `client.next_doc(studyid)`: load specific studyid\n",
    "\n",
    "### Infos dictionary\n",
    "\n",
    "The `infos` dictionary defines how underlying data will be loaded into memory. Generally speaking, there are two main modes of loading image data:\n",
    "\n",
    "1. Loading the entire image (along a specific dimension)\n",
    "2. Loading a portion of the image (along a specific dimension)\n",
    "\n",
    "Generally, the three values in the `infos` dictionary that define the specific mode are the `infos['shape']`, `infos['tiles']`, and `infos['rsize']` entries.\n",
    "\n",
    "#### Loading an entire image\n",
    "\n",
    "By default if none of the values in the `infos` dictionary are set (e.g. pass an empty dictionary `{}`) then the full resolution entire image is loaded. This can be explicitly set by defining `infos['full_res'] = True` but is not required by default. If a specific image `shape` is required (as is often the case for neural network training) then the `infos['shape']` parameter should be set; doing so will ensure that provided shape for all images regardless of original matrix size. All image data is assumed to be 3D (2D images are defined with a shape of 1 in the z-direction), and so this value should be defined as a 3-element Python list `[z, y, x]`. Note that due to the progressive layout of `*.mvk` files, only the required amount of data per defined image shape is ever loaded into memory (e.g. smaller image shapes are loaded faster than larger image shapes)."
   ]
  },
  {
   "cell_type": "code",
   "execution_count": null,
   "metadata": {},
   "outputs": [],
   "source": [
    "def load_shape():\n",
    "    \"\"\"\n",
    "    Example showing how to:\n",
    "    \n",
    "      (1) Initialize client\n",
    "      (2) Load an entire image at full resolution\n",
    "      (3) Load an entire at partial resolution\n",
    "      \n",
    "    \"\"\"\n",
    "    client = init_client()\n",
    "    \n",
    "    # Load at full resolution (default)\n",
    "    vol = client.load_next(infos={})\n",
    "    assert vol['dat'].shape == (1, 28, 28, 1)\n",
    "    \n",
    "    # Load at full resolution (explicit)\n",
    "    vol = client.load_next(infos={'full_res': True})\n",
    "    assert vol['dat'].shape == (1, 28, 28, 1)\n",
    "    \n",
    "    # Load at partial resolution (1 x 14 x 14 shape)\n",
    "    vol = client.load_next(infos={'shape': [1, 14, 14]})\n",
    "    assert vol['dat'].shape == (1, 14, 14, 1)\n",
    "    \n",
    "%time load_shape()"
   ]
  },
  {
   "cell_type": "markdown",
   "metadata": {},
   "source": [
    "#### Loading a portion of an image\n",
    "\n",
    "Oftentimes for more complex training strategies, only a portion of an image may be required. Examples here include loading arbitrary *n*-slice \"slabs\" of a 3D cross-sectional volume (CT, MR) or image patches for a high-resolution file (mammogram, pathology digital slides). \n",
    "\n",
    "To load a portion of the image along any given dimension, one must specify either the `infos['tiles']` or `infos['rsize']` entries in the `infos` dictionary in addition to the `infos['shape']` value. Setting either `tiles` or `rsize` will change the meaning of `infos['shapes']` to instead indicate that a \"slab\" or \"patch\" of size N is requested (instead of the entire image resized to the provided shape). \n",
    "\n",
    "**`infos['tiles']`**: Setting any *positive* value as the *i*-th entry in `tiles` indicates that along that particular dimension, a total of `infos['shape'][i]` pixels (or voxels) will be loaded spaced at `infos['tiles'][i]` mm. For example if `infos['shape'] = [3, 256, 256]` and `infos['tiles'] = [5, 0, 0]`, the final loaded volume will contain 3-slice slabs at 5-mm spacing with the entire in-plane image resized to 256 x 256. By contrast, changing `infos['tiles'] = [5, 1, 1]`, the final loaded volume will contain 256 x 256 image *patches* with voxels spaced at 1-mm (e.g. 25.6 x 25.6 mm image patches). "
   ]
  },
  {
   "cell_type": "code",
   "execution_count": null,
   "metadata": {},
   "outputs": [],
   "source": [
    "def load_tiles():\n",
    "    \"\"\"\n",
    "    Example showing how to:\n",
    "    \n",
    "      (1) Initialize client\n",
    "      (2) Load 14 x 14 patches \n",
    "      \n",
    "    \"\"\"\n",
    "    client = init_client()\n",
    "    \n",
    "    infos = {\n",
    "        'shape': [1, 14, 14],\n",
    "        'tiles': [0, 1, 1]\n",
    "    }\n",
    "    \n",
    "    vol = client.load_next(infos=infos)\n",
    "    assert vol['dat'].shape == (1, 14, 14, 1)\n",
    "    \n",
    "%time load_tiles()"
   ]
  },
  {
   "cell_type": "markdown",
   "metadata": {},
   "source": [
    "**`infos['rsize']**`**: Setting any *positive* value as the *i*-th entry in `rsize` indicates that along that particular dimension, the image will first be resized to a shape of `infos['rsize'][i]` before a total of `infos['shape'][i]` pixels (or voxels) will be loaded. For example, if `infos['shape'] = [3, 256, 256]` and `infos['rsize'] = [32, 0, 0]`, the original volume will first be resized to a total of 32 slices before loading 3-slice slabs with the entire in-plane image resized to 256 x 256. By contrast, changing `infos['tiles'] = [32, 512, 512]`, the original volume will first be resized to a constant size of 32 x 512 x 512 before taking small 3 x 256 x 256 slab-patches (256 x 256 patches spanning 3 slices thick). "
   ]
  },
  {
   "cell_type": "code",
   "execution_count": null,
   "metadata": {},
   "outputs": [],
   "source": [
    "def load_rsize():\n",
    "    \"\"\"\n",
    "    Example showing how to: \n",
    "    \n",
    "      (1) Initialize client\n",
    "      (2) Load 14 x 14 patches\n",
    "    \n",
    "    \"\"\"\n",
    "    client = init_client()\n",
    "    \n",
    "    # First resize to 28 x 28, then load 14 x 14 patches\n",
    "    infos = {\n",
    "        'shape': [1, 14, 14],\n",
    "        'rsize': [0, 28, 28]\n",
    "    }\n",
    "    \n",
    "    vol = client.load_next(infos)\n",
    "    assert vol['dat'].shape == (1, 14, 14, 1)\n",
    "    \n",
    "%time load_rsize()"
   ]
  },
  {
   "cell_type": "markdown",
   "metadata": {},
   "source": [
    "**`infos['point']`**: By default, *random* slabs or patches within the volume (or image) will be loaded. If a specific point within the volume (or image) is requested, the normalized coordinate (scaled between 0 and 1) can be provided. If stratified sampling distributions are provided (see below), then random patches will be selected such that the distribution of labels matches the specified sampling requirements.  \n",
    "\n",
    "#### Data Augmentation\n",
    "\n",
    "Data augmentation may be defined setting the `infos['affine']` flag to True. If set, a random affine matrix will be applied to the original image. If a mask label is defined as part of `app_context` then the same affine matrix will be applied to the label(s) as well. The following affine parameters are set to default values shown here, and may alternatively redefined as needed:\n",
    "```\n",
    "infos = {\n",
    "    'affine': True,\n",
    "    'translation': [-10, 10],      # pixels or voxels\n",
    "    'scale': [0.5, 1.5],           # 50% to 150%\n",
    "    'rotation': [-1.57, 1.57],     # radians (-180 degrees or 180 degrees)\n",
    "    'shear': [-0.1, 0.1]           \n",
    "}\n",
    "```\n",
    "\n",
    "### Stratified sampling\n",
    "\n",
    "In addition, if the `client.dist` dictionary is defined, then the documents will be drawn from the specified stratified sampling distribution. This strategy forces data to be loaded at specific ratios regardless of underlying population distribution. For example:\n",
    "```\n",
    "client.dist = {\n",
    "    1: 0.25,\n",
    "    2: 0.25,\n",
    "    3: 0.40,\n",
    "    4: 0.10\n",
    " }\n",
    " ```\n",
    "In this example 4-class example, such a definition would force data to sampled such that approximately 25% of data has label==1, 25% has label==2, 40% has label==3, and 10% has label==4."
   ]
  }
 ],
 "metadata": {
  "kernelspec": {
   "display_name": "Python 3",
   "language": "python",
   "name": "python3"
  },
  "language_info": {
   "codemirror_mode": {
    "name": "ipython",
    "version": 3
   },
   "file_extension": ".py",
   "mimetype": "text/x-python",
   "name": "python",
   "nbconvert_exporter": "python",
   "pygments_lexer": "ipython3",
   "version": "3.5.4"
  }
 },
 "nbformat": 4,
 "nbformat_minor": 2
}
